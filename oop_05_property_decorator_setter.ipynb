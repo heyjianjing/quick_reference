{
  "nbformat": 4,
  "nbformat_minor": 0,
  "metadata": {
    "colab": {
      "provenance": []
    },
    "kernelspec": {
      "name": "python3",
      "display_name": "Python 3"
    },
    "language_info": {
      "name": "python"
    }
  },
  "cells": [
    {
      "cell_type": "code",
      "execution_count": null,
      "metadata": {
        "id": "Q1fyQgJfS246"
      },
      "outputs": [],
      "source": [
        "# property decorator\n",
        "# design a method, access like an attribute\n",
        "\n",
        "class Employee:\n",
        "\n",
        "  def __init__(self, first, last):\n",
        "    self.first = first\n",
        "    self.last = last\n",
        "    # self.email = f'{self.first.lower()}.{self.last.lower()}@company.com'\n",
        "\n",
        "  # this gives the capability of dynamically update full name\n",
        "  # rather than coding it with original init method\n",
        "  # but still treat it like an attribute\n",
        "  @property\n",
        "  def fullname(self):\n",
        "    return f'{self.first} {self.last}'\n",
        "\n",
        "  # whenever we set fullname to a value\n",
        "  # e.g., .fullname = 'str'\n",
        "  # it is passed to setter\n",
        "  @fullname.setter\n",
        "  def fullname(self, name):\n",
        "    first, last = name.split(' ')\n",
        "    self.first = first\n",
        "    self.last = last\n",
        "\n",
        "  @property\n",
        "  def email(self):\n",
        "    return f'{self.first.lower()}.{self.last.lower()}@company.com'"
      ]
    },
    {
      "cell_type": "code",
      "source": [
        "emp_1 = Employee('John', 'Smith')\n",
        "emp_2 = Employee('Jane', 'Doe')"
      ],
      "metadata": {
        "id": "iHAAWmohsC60"
      },
      "execution_count": null,
      "outputs": []
    },
    {
      "cell_type": "code",
      "source": [
        "emp_1.last = 'Adam'"
      ],
      "metadata": {
        "id": "Na_Zx8991tAU"
      },
      "execution_count": null,
      "outputs": []
    },
    {
      "cell_type": "code",
      "source": [
        "print(emp_1.email)\n",
        "print(emp_1.fullname)"
      ],
      "metadata": {
        "colab": {
          "base_uri": "https://localhost:8080/"
        },
        "id": "0Oa7NmQ51vwC",
        "outputId": "c0a1b048-3dd6-4c40-faa8-91f189c0955a"
      },
      "execution_count": null,
      "outputs": [
        {
          "output_type": "stream",
          "name": "stdout",
          "text": [
            "john.adam@company.com\n",
            "John Adam\n"
          ]
        }
      ]
    },
    {
      "cell_type": "code",
      "source": [
        "emp_1.fullname = 'Corey Schafer'"
      ],
      "metadata": {
        "id": "bKixrtqQ1zCc"
      },
      "execution_count": null,
      "outputs": []
    },
    {
      "cell_type": "code",
      "source": [
        "print(emp_1.email)\n",
        "print(emp_1.fullname)"
      ],
      "metadata": {
        "colab": {
          "base_uri": "https://localhost:8080/"
        },
        "id": "1S4ecO4n4aJU",
        "outputId": "795a9576-ee36-44a2-eedb-d71c05a5a3fc"
      },
      "execution_count": null,
      "outputs": [
        {
          "output_type": "stream",
          "name": "stdout",
          "text": [
            "corey.schafer@company.com\n",
            "Corey Schafer\n"
          ]
        }
      ]
    }
  ]
}