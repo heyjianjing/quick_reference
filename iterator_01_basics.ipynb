{
  "nbformat": 4,
  "nbformat_minor": 0,
  "metadata": {
    "colab": {
      "provenance": []
    },
    "kernelspec": {
      "name": "python3",
      "display_name": "Python 3"
    },
    "language_info": {
      "name": "python"
    }
  },
  "cells": [
    {
      "cell_type": "markdown",
      "source": [
        "#### Iterator vs. iterable"
      ],
      "metadata": {
        "id": "NKz-nA0fNqm_"
      }
    },
    {
      "cell_type": "markdown",
      "source": [
        "Iterable is something that can be looped over, like a list"
      ],
      "metadata": {
        "id": "EC_LPWWVNyYi"
      }
    },
    {
      "cell_type": "code",
      "execution_count": 1,
      "metadata": {
        "colab": {
          "base_uri": "https://localhost:8080/"
        },
        "id": "dsb1HOpzNilm",
        "outputId": "72f45740-9737-4b08-f7af-aa4a96ab6290"
      },
      "outputs": [
        {
          "output_type": "stream",
          "name": "stdout",
          "text": [
            "1\n",
            "2\n",
            "3\n"
          ]
        }
      ],
      "source": [
        "nums = [1, 2, 3]\n",
        "\n",
        "for num in nums:\n",
        "    print(num)"
      ]
    },
    {
      "cell_type": "markdown",
      "source": [
        "Iterable has a `__iter__` method"
      ],
      "metadata": {
        "id": "SOD3uF3zOFcw"
      }
    },
    {
      "cell_type": "code",
      "source": [
        "print('__iter__' in dir(nums))"
      ],
      "metadata": {
        "colab": {
          "base_uri": "https://localhost:8080/"
        },
        "id": "dxfuKFIFOKlW",
        "outputId": "7be5b03f-4739-43dc-e641-ad30bd895b12"
      },
      "execution_count": 3,
      "outputs": [
        {
          "output_type": "stream",
          "name": "stdout",
          "text": [
            "True\n"
          ]
        }
      ]
    },
    {
      "cell_type": "markdown",
      "source": [
        "For loop over a list, `__iter__` method is called, which returns an `iterator`\n",
        "\n",
        "However, list itself is not an iterator\n",
        "\n",
        "An iterator `knows` its state during iteration, with `__next__` method"
      ],
      "metadata": {
        "id": "mg5qo2HhOX2g"
      }
    },
    {
      "cell_type": "code",
      "source": [
        "print('__next__' in dir(nums))\n",
        "print('__next__' in dir(iter(nums)))"
      ],
      "metadata": {
        "colab": {
          "base_uri": "https://localhost:8080/"
        },
        "id": "HZ8oH9UkOvAv",
        "outputId": "c3e9d3ca-3d0e-403f-8db1-0f191ae5ebc3"
      },
      "execution_count": 5,
      "outputs": [
        {
          "output_type": "stream",
          "name": "stdout",
          "text": [
            "False\n",
            "True\n"
          ]
        }
      ]
    },
    {
      "cell_type": "code",
      "source": [
        "iter_nums = iter(nums)\n",
        "print(next(iter_nums))\n",
        "print(next(iter_nums))\n",
        "print(next(iter_nums))"
      ],
      "metadata": {
        "colab": {
          "base_uri": "https://localhost:8080/"
        },
        "id": "gYqooMnLN4vZ",
        "outputId": "48448382-18a8-429b-ea35-5137f53ec87f"
      },
      "execution_count": 7,
      "outputs": [
        {
          "output_type": "stream",
          "name": "stdout",
          "text": [
            "1\n",
            "2\n",
            "3\n"
          ]
        }
      ]
    },
    {
      "cell_type": "code",
      "source": [
        "# or in a for loop\n",
        "\n",
        "iter_nums = iter(nums)\n",
        "\n",
        "while True:\n",
        "    try:\n",
        "        item = next(iter_nums)\n",
        "        print(item)\n",
        "    except StopIteration:\n",
        "        break"
      ],
      "metadata": {
        "colab": {
          "base_uri": "https://localhost:8080/"
        },
        "id": "WhT1QLBGPHQL",
        "outputId": "b0dd2189-5382-4853-947e-288847a4397d"
      },
      "execution_count": 8,
      "outputs": [
        {
          "output_type": "stream",
          "name": "stdout",
          "text": [
            "1\n",
            "2\n",
            "3\n"
          ]
        }
      ]
    },
    {
      "cell_type": "markdown",
      "source": [
        "#### Write a class to recreate range"
      ],
      "metadata": {
        "id": "xHFxpmowQA5-"
      }
    },
    {
      "cell_type": "code",
      "source": [
        "class MyRange:\n",
        "    def __init__(self, start, end):\n",
        "        self.value = start\n",
        "        self.end = end\n",
        "\n",
        "    def __iter__(self):\n",
        "        return self\n",
        "\n",
        "    def __next__(self):\n",
        "        if self.value >= self.end:\n",
        "            raise StopIteration\n",
        "        current = self.value\n",
        "        self.value += 1\n",
        "        return current\n",
        "\n",
        "nums = MyRange(1, 10)\n",
        "\n",
        "print(next(nums))\n",
        "print(next(nums))\n",
        "print(next(nums))"
      ],
      "metadata": {
        "colab": {
          "base_uri": "https://localhost:8080/"
        },
        "id": "2WixXEpQP0Tq",
        "outputId": "4058fe26-cbd8-4263-d123-afb078b97a8d"
      },
      "execution_count": 11,
      "outputs": [
        {
          "output_type": "stream",
          "name": "stdout",
          "text": [
            "1\n",
            "2\n",
            "3\n"
          ]
        }
      ]
    },
    {
      "cell_type": "markdown",
      "source": [
        "#### Write a simple generator"
      ],
      "metadata": {
        "id": "37h6Jqv9Q6Ry"
      }
    },
    {
      "cell_type": "code",
      "source": [
        "def my_range(start, end):\n",
        "    current = start\n",
        "    while current < end:\n",
        "        yield current\n",
        "        current += 1\n",
        "\n",
        "nums = my_range(1, 10)\n",
        "\n",
        "# it is a generator\n",
        "print(nums)\n",
        "\n",
        "for num in nums:\n",
        "    print(num)"
      ],
      "metadata": {
        "colab": {
          "base_uri": "https://localhost:8080/"
        },
        "id": "7rncxMmvQZi5",
        "outputId": "2305ad34-51c2-44b5-e8e1-64c812f87e6d"
      },
      "execution_count": 16,
      "outputs": [
        {
          "output_type": "stream",
          "name": "stdout",
          "text": [
            "<generator object my_range at 0x7aa538ef5630>\n",
            "1\n",
            "2\n",
            "3\n",
            "4\n",
            "5\n",
            "6\n",
            "7\n",
            "8\n",
            "9\n"
          ]
        }
      ]
    },
    {
      "cell_type": "code",
      "source": [],
      "metadata": {
        "id": "kRj7D1tlRD9m"
      },
      "execution_count": null,
      "outputs": []
    }
  ]
}