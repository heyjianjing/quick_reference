{
  "nbformat": 4,
  "nbformat_minor": 0,
  "metadata": {
    "colab": {
      "provenance": []
    },
    "kernelspec": {
      "name": "python3",
      "display_name": "Python 3"
    },
    "language_info": {
      "name": "python"
    }
  },
  "cells": [
    {
      "cell_type": "code",
      "execution_count": 22,
      "metadata": {
        "id": "Q1fyQgJfS246",
        "colab": {
          "base_uri": "https://localhost:8080/"
        },
        "outputId": "a5df6e85-0af2-47fa-89b9-77a669167946"
      },
      "outputs": [
        {
          "output_type": "stream",
          "name": "stdout",
          "text": [
            "Overwriting employee.py\n"
          ]
        }
      ],
      "source": [
        "%%writefile employee.py\n",
        "\n",
        "class Employee:\n",
        "\n",
        "  def __init__(self, first, last, pay, ident):\n",
        "    self.first = first\n",
        "    self.last = last\n",
        "    self.pay = pay\n",
        "    self.ident = ident\n",
        "\n",
        "  @property\n",
        "  def fullname(self):\n",
        "    return f'{self.first} {self.last}'\n",
        "\n",
        "  @property\n",
        "  def email(self):\n",
        "    return f'{self.first.lower()}.{self.last.lower()}@company.com'\n",
        "\n",
        "  def __repr__(self):\n",
        "    return f'Employee({self.first}, {self.last}, {self.pay}, {self.ident})'"
      ]
    },
    {
      "cell_type": "code",
      "source": [
        "import sqlite3\n",
        "from employee import Employee"
      ],
      "metadata": {
        "id": "3XT4HCdwiTHd"
      },
      "execution_count": 23,
      "outputs": []
    },
    {
      "cell_type": "code",
      "source": [
        "# Create connecction (even it exists)\n",
        "# conn = sqlite3.connect('employee.db')\n",
        "\n",
        "# Or in memory (good for testing)\n",
        "conn = sqlite3.connect(':memory:')"
      ],
      "metadata": {
        "id": "8PSQb4naiXJi"
      },
      "execution_count": 24,
      "outputs": []
    },
    {
      "cell_type": "code",
      "source": [
        "# Create cursor, so we can run sql command\n",
        "c = conn.cursor()"
      ],
      "metadata": {
        "id": "Okm8KUlGidJc"
      },
      "execution_count": 25,
      "outputs": []
    },
    {
      "cell_type": "code",
      "source": [
        "# Create employee table (throw error if exists)\n",
        "# https://www.sqlite.org/datatype3.html\n",
        "c.execute(\"\"\"CREATE TABLE employees (\n",
        "  first TEXT,\n",
        "  last TEXT,\n",
        "  pay INTEGER,\n",
        "  ident TEXT\n",
        ")\"\"\")\n",
        "\n",
        "# Commit changes\n",
        "conn.commit()"
      ],
      "metadata": {
        "id": "2N5mAb7miwHk"
      },
      "execution_count": 26,
      "outputs": []
    },
    {
      "cell_type": "code",
      "source": [
        "def insert_emp(emp):\n",
        "  with conn:\n",
        "    c.execute(\"INSERT INTO employees VALUES (:first, :last, :pay, :ident)\",\n",
        "      {'first': emp.first, 'last': emp.last, 'pay': emp.pay, 'ident': emp.ident})\n",
        "\n",
        "def get_emps_by_name(lastname):\n",
        "  if lastname == None:\n",
        "    c.execute(\"SELECT * FROM employees\")\n",
        "  else:\n",
        "    c.execute(\"SELECT * FROM employees WHERE last=:last\", {'last': lastname})\n",
        "  return c.fetchall()\n",
        "\n",
        "def update_pay(emp, pay):\n",
        "  with conn:\n",
        "    c.execute(\"\"\"UPDATE employees SET pay = :pay\n",
        "      WHERE first = :first AND last = :last\"\"\",\n",
        "      {'first': emp.first, 'last': emp.last, 'pay': pay})\n",
        "\n",
        "def remove_emp(emp):\n",
        "  with conn:\n",
        "    c.execute(\"DELETE from employees WHERE first = :first AND last = :last\",\n",
        "      {'first': emp.first, 'last': emp.last})"
      ],
      "metadata": {
        "id": "NDqJWNV1qWVW"
      },
      "execution_count": 27,
      "outputs": []
    },
    {
      "cell_type": "code",
      "source": [
        "emp_1 = Employee('John', 'Doe', 80000, '001')\n",
        "emp_2 = Employee('Jane', 'Doe', 90000, '002')\n",
        "emp_3 = Employee('Corey', 'Schafer', 100000, '003')\n",
        "emp_4 = Employee('Tom', 'Smith', 110000, '004')"
      ],
      "metadata": {
        "id": "8S072y3JmGrG"
      },
      "execution_count": 28,
      "outputs": []
    },
    {
      "cell_type": "code",
      "source": [
        "insert_emp(emp_1)\n",
        "insert_emp(emp_2)\n",
        "insert_emp(emp_3)\n",
        "insert_emp(emp_4)"
      ],
      "metadata": {
        "id": "nrhpcSdmqx1E"
      },
      "execution_count": 29,
      "outputs": []
    },
    {
      "cell_type": "code",
      "source": [
        "emps = get_emps_by_name('Doe')\n",
        "print(emps)"
      ],
      "metadata": {
        "colab": {
          "base_uri": "https://localhost:8080/"
        },
        "id": "yVHIurmFq0wi",
        "outputId": "2754b4a2-3a34-4ff9-ce9a-864f6e54a7d1"
      },
      "execution_count": 30,
      "outputs": [
        {
          "output_type": "stream",
          "name": "stdout",
          "text": [
            "[('John', 'Doe', 80000, '001'), ('Jane', 'Doe', 90000, '002')]\n"
          ]
        }
      ]
    },
    {
      "cell_type": "code",
      "source": [
        "update_pay(emp_2, 95000)"
      ],
      "metadata": {
        "id": "fjvJbo1oq6J2"
      },
      "execution_count": 31,
      "outputs": []
    },
    {
      "cell_type": "code",
      "source": [
        "remove_emp(emp_1)"
      ],
      "metadata": {
        "id": "z4wyUb-PrUW0"
      },
      "execution_count": 32,
      "outputs": []
    },
    {
      "cell_type": "code",
      "source": [
        "emps = get_emps_by_name(None)\n",
        "print(emps)"
      ],
      "metadata": {
        "colab": {
          "base_uri": "https://localhost:8080/"
        },
        "id": "OdENRQJNrBom",
        "outputId": "cfd6e83d-436f-44cd-d5d5-b2d49048c921"
      },
      "execution_count": 33,
      "outputs": [
        {
          "output_type": "stream",
          "name": "stdout",
          "text": [
            "[('Jane', 'Doe', 95000, '002'), ('Corey', 'Schafer', 100000, '003'), ('Tom', 'Smith', 110000, '004')]\n"
          ]
        }
      ]
    },
    {
      "cell_type": "code",
      "source": [
        "conn.close()"
      ],
      "metadata": {
        "id": "-rlPBwWgrbOS"
      },
      "execution_count": 34,
      "outputs": []
    }
  ]
}