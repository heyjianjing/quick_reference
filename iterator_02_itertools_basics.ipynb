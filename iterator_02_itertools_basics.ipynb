{
  "nbformat": 4,
  "nbformat_minor": 0,
  "metadata": {
    "colab": {
      "provenance": []
    },
    "kernelspec": {
      "name": "python3",
      "display_name": "Python 3"
    },
    "language_info": {
      "name": "python"
    }
  },
  "cells": [
    {
      "cell_type": "markdown",
      "source": [
        "#### Counter"
      ],
      "metadata": {
        "id": "NKz-nA0fNqm_"
      }
    },
    {
      "cell_type": "code",
      "source": [
        "import itertools"
      ],
      "metadata": {
        "id": "kRj7D1tlRD9m"
      },
      "execution_count": 1,
      "outputs": []
    },
    {
      "cell_type": "code",
      "source": [
        "counter = itertools.count(start=5, step=-2.5)\n",
        "data = [1, 2, 3, 4]\n",
        "\n",
        "# itertools.count goes forever, so use shorter iterable to end zip\n",
        "print(list(zip(counter, data)))\n",
        "\n",
        "# we can use itertools.zip_longest to cut off with longest iterable..."
      ],
      "metadata": {
        "colab": {
          "base_uri": "https://localhost:8080/"
        },
        "id": "z8wCa0-YUlxq",
        "outputId": "3f2b2e43-b934-4598-837c-24b90dc7c68f"
      },
      "execution_count": 4,
      "outputs": [
        {
          "output_type": "stream",
          "name": "stdout",
          "text": [
            "[(5, 1), (2.5, 2), (0.0, 3), (-2.5, 4)]\n"
          ]
        }
      ]
    },
    {
      "cell_type": "markdown",
      "source": [
        "#### Cycle"
      ],
      "metadata": {
        "id": "PGZCwqTtVXCH"
      }
    },
    {
      "cell_type": "code",
      "source": [
        "cycle = itertools.cycle([1, 2, 3])\n",
        "print([next(cycle) for _ in range(20)])"
      ],
      "metadata": {
        "colab": {
          "base_uri": "https://localhost:8080/"
        },
        "id": "_bYGtPcrUyiq",
        "outputId": "0a3a76fd-e636-4aaf-de89-1edd8e37279e"
      },
      "execution_count": 6,
      "outputs": [
        {
          "output_type": "stream",
          "name": "stdout",
          "text": [
            "[1, 2, 3, 1, 2, 3, 1, 2, 3, 1, 2, 3, 1, 2, 3, 1, 2, 3, 1, 2]\n"
          ]
        }
      ]
    },
    {
      "cell_type": "markdown",
      "source": [
        "#### Combination"
      ],
      "metadata": {
        "id": "V4iFgX1iWCsi"
      }
    },
    {
      "cell_type": "code",
      "source": [
        "letters = ['a', 'b', 'c', 'd']\n",
        "numbers = [0, 1, 2, 3]\n",
        "names = ['Corey', 'Nicole']"
      ],
      "metadata": {
        "id": "daZ5v0uDVbyy"
      },
      "execution_count": 7,
      "outputs": []
    },
    {
      "cell_type": "code",
      "source": [
        "# all combinations of two values\n",
        "result = itertools.combinations(letters, 2)\n",
        "\n",
        "for item in result:\n",
        "    print(item)"
      ],
      "metadata": {
        "colab": {
          "base_uri": "https://localhost:8080/"
        },
        "id": "Q7VSZjAIXZC5",
        "outputId": "dc55df05-fe80-4741-c948-030fa3097574"
      },
      "execution_count": 9,
      "outputs": [
        {
          "output_type": "stream",
          "name": "stdout",
          "text": [
            "('a', 'b')\n",
            "('a', 'c')\n",
            "('a', 'd')\n",
            "('b', 'c')\n",
            "('b', 'd')\n",
            "('c', 'd')\n"
          ]
        }
      ]
    },
    {
      "cell_type": "code",
      "source": [
        "# all permutations of two values\n",
        "result = itertools.permutations(letters, 2)\n",
        "\n",
        "for item in result:\n",
        "    print(item)"
      ],
      "metadata": {
        "colab": {
          "base_uri": "https://localhost:8080/"
        },
        "id": "MsJ_0s26XhmK",
        "outputId": "e4389429-e036-4c05-c6a3-0b043569fe19"
      },
      "execution_count": 11,
      "outputs": [
        {
          "output_type": "stream",
          "name": "stdout",
          "text": [
            "('a', 'b')\n",
            "('a', 'c')\n",
            "('a', 'd')\n",
            "('b', 'a')\n",
            "('b', 'c')\n",
            "('b', 'd')\n",
            "('c', 'a')\n",
            "('c', 'b')\n",
            "('c', 'd')\n",
            "('d', 'a')\n",
            "('d', 'b')\n",
            "('d', 'c')\n"
          ]
        }
      ]
    },
    {
      "cell_type": "markdown",
      "source": [
        "With repeat"
      ],
      "metadata": {
        "id": "UpfrigyjYHIr"
      }
    },
    {
      "cell_type": "code",
      "source": [
        "result = itertools.product(numbers, repeat=2)\n",
        "\n",
        "for item in result:\n",
        "    print(item)"
      ],
      "metadata": {
        "colab": {
          "base_uri": "https://localhost:8080/"
        },
        "id": "_2iblHuWX4DR",
        "outputId": "c4010313-5ee0-466b-8f9d-8029df673206"
      },
      "execution_count": 13,
      "outputs": [
        {
          "output_type": "stream",
          "name": "stdout",
          "text": [
            "(0, 0)\n",
            "(0, 1)\n",
            "(0, 2)\n",
            "(0, 3)\n",
            "(1, 0)\n",
            "(1, 1)\n",
            "(1, 2)\n",
            "(1, 3)\n",
            "(2, 0)\n",
            "(2, 1)\n",
            "(2, 2)\n",
            "(2, 3)\n",
            "(3, 0)\n",
            "(3, 1)\n",
            "(3, 2)\n",
            "(3, 3)\n"
          ]
        }
      ]
    },
    {
      "cell_type": "code",
      "source": [
        "# product can also do across lists\n",
        "\n",
        "combos = list(itertools.product(letters, numbers, names))\n",
        "\n",
        "for item in combos:\n",
        "    print(item)"
      ],
      "metadata": {
        "colab": {
          "base_uri": "https://localhost:8080/"
        },
        "id": "Thz0bzw1Y94R",
        "outputId": "170b1431-b7f5-4418-e167-d91d824b5ea8"
      },
      "execution_count": 17,
      "outputs": [
        {
          "output_type": "stream",
          "name": "stdout",
          "text": [
            "('a', 0, 'Corey')\n",
            "('a', 0, 'Nicole')\n",
            "('a', 1, 'Corey')\n",
            "('a', 1, 'Nicole')\n",
            "('a', 2, 'Corey')\n",
            "('a', 2, 'Nicole')\n",
            "('a', 3, 'Corey')\n",
            "('a', 3, 'Nicole')\n",
            "('b', 0, 'Corey')\n",
            "('b', 0, 'Nicole')\n",
            "('b', 1, 'Corey')\n",
            "('b', 1, 'Nicole')\n",
            "('b', 2, 'Corey')\n",
            "('b', 2, 'Nicole')\n",
            "('b', 3, 'Corey')\n",
            "('b', 3, 'Nicole')\n",
            "('c', 0, 'Corey')\n",
            "('c', 0, 'Nicole')\n",
            "('c', 1, 'Corey')\n",
            "('c', 1, 'Nicole')\n",
            "('c', 2, 'Corey')\n",
            "('c', 2, 'Nicole')\n",
            "('c', 3, 'Corey')\n",
            "('c', 3, 'Nicole')\n",
            "('d', 0, 'Corey')\n",
            "('d', 0, 'Nicole')\n",
            "('d', 1, 'Corey')\n",
            "('d', 1, 'Nicole')\n",
            "('d', 2, 'Corey')\n",
            "('d', 2, 'Nicole')\n",
            "('d', 3, 'Corey')\n",
            "('d', 3, 'Nicole')\n"
          ]
        }
      ]
    },
    {
      "cell_type": "code",
      "source": [
        "# combination with repeated value\n",
        "\n",
        "result = itertools.combinations_with_replacement(numbers, 2)\n",
        "\n",
        "for item in result:\n",
        "    print(item)"
      ],
      "metadata": {
        "colab": {
          "base_uri": "https://localhost:8080/"
        },
        "id": "QApIJoy5YMGC",
        "outputId": "4e7ef131-1cff-40d9-c13c-57cdc3330c3e"
      },
      "execution_count": 15,
      "outputs": [
        {
          "output_type": "stream",
          "name": "stdout",
          "text": [
            "(0, 0)\n",
            "(0, 1)\n",
            "(0, 2)\n",
            "(0, 3)\n",
            "(1, 1)\n",
            "(1, 2)\n",
            "(1, 3)\n",
            "(2, 2)\n",
            "(2, 3)\n",
            "(3, 3)\n"
          ]
        }
      ]
    },
    {
      "cell_type": "code",
      "source": [],
      "metadata": {
        "id": "CLMPX2W0YY7B"
      },
      "execution_count": null,
      "outputs": []
    }
  ]
}