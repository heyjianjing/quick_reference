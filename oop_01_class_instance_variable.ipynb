{
  "nbformat": 4,
  "nbformat_minor": 0,
  "metadata": {
    "colab": {
      "provenance": []
    },
    "kernelspec": {
      "name": "python3",
      "display_name": "Python 3"
    },
    "language_info": {
      "name": "python"
    }
  },
  "cells": [
    {
      "cell_type": "markdown",
      "source": [
        "Classes allow to logically group data (attributes) and functions (methods) in a way that is easy to use and easy to build upon if needed"
      ],
      "metadata": {
        "id": "cZT6MDpKwW35"
      }
    },
    {
      "cell_type": "code",
      "execution_count": null,
      "metadata": {
        "id": "Q1fyQgJfS246"
      },
      "outputs": [],
      "source": [
        "class Employee:\n",
        "  # class variables\n",
        "  num_emps = 0\n",
        "  raise_amount = 1.04\n",
        "\n",
        "  # self is instance\n",
        "  def __init__(self, first, last, pay):\n",
        "    self.first = first\n",
        "    self.last = last\n",
        "    self.pay = pay\n",
        "    self.email = f'{first.lower()}.{last.lower()}@company.com'\n",
        "\n",
        "    # here need to use class-level attribute, as instnace-level does not make sense\n",
        "    Employee.num_emps += 1\n",
        "\n",
        "  # create a method (not attribute)\n",
        "  def fullname(self):\n",
        "    print(f'{self.first} {self.last}')\n",
        "\n",
        "  def apply_raise(self):\n",
        "    # here use instance attribute\n",
        "    # allow to use attribute specific for instance when available\n",
        "    # use class-level attribute when instance-level does not exist\n",
        "    self.pay = int(self.pay * self.raise_amount)\n"
      ]
    },
    {
      "cell_type": "markdown",
      "source": [
        "Class is a blueprint to create each instance"
      ],
      "metadata": {
        "id": "D5GlwKaPxNYr"
      }
    },
    {
      "cell_type": "code",
      "source": [
        "emp_1 = Employee('Corey', 'Schafer', 50000)\n",
        "emp_2 = Employee('Test', 'User', 60000)"
      ],
      "metadata": {
        "id": "9OgRpcGqU6gn"
      },
      "execution_count": null,
      "outputs": []
    },
    {
      "cell_type": "code",
      "source": [
        "print(emp_1.email)\n",
        "print(emp_2.email)"
      ],
      "metadata": {
        "colab": {
          "base_uri": "https://localhost:8080/"
        },
        "id": "3NJiVIM8Th4Z",
        "outputId": "ce06ce2c-ba7e-4065-e171-da7560f1b790"
      },
      "execution_count": null,
      "outputs": [
        {
          "output_type": "stream",
          "name": "stdout",
          "text": [
            "corey.schafer@company.com\n",
            "test.user@company.com\n"
          ]
        }
      ]
    },
    {
      "cell_type": "code",
      "source": [
        "Employee.num_emps"
      ],
      "metadata": {
        "colab": {
          "base_uri": "https://localhost:8080/"
        },
        "id": "c9aA5CK-UD8l",
        "outputId": "20e75653-043d-4205-d7d9-f9f9f269b183"
      },
      "execution_count": null,
      "outputs": [
        {
          "output_type": "execute_result",
          "data": {
            "text/plain": [
              "2"
            ]
          },
          "metadata": {},
          "execution_count": 26
        }
      ]
    },
    {
      "cell_type": "code",
      "source": [
        "emp_1.fullname()"
      ],
      "metadata": {
        "colab": {
          "base_uri": "https://localhost:8080/"
        },
        "id": "_hi5ZG-cT7nx",
        "outputId": "c242933a-1313-47cc-c9e7-94071740a164"
      },
      "execution_count": null,
      "outputs": [
        {
          "output_type": "stream",
          "name": "stdout",
          "text": [
            "Corey Schafer\n"
          ]
        }
      ]
    },
    {
      "cell_type": "code",
      "source": [
        "print(emp_1.pay)\n",
        "emp_1.apply_raise()\n",
        "print(emp_1.pay)"
      ],
      "metadata": {
        "colab": {
          "base_uri": "https://localhost:8080/"
        },
        "id": "acXecBd6P6jf",
        "outputId": "7297347f-ea9c-46e5-8e24-f037dccac757"
      },
      "execution_count": null,
      "outputs": [
        {
          "output_type": "stream",
          "name": "stdout",
          "text": [
            "50000\n",
            "52000\n"
          ]
        }
      ]
    },
    {
      "cell_type": "code",
      "source": [
        "# class level name space\n",
        "print(Employee.__dict__)\n",
        "print('raise_amount' in Employee.__dict__)"
      ],
      "metadata": {
        "colab": {
          "base_uri": "https://localhost:8080/"
        },
        "id": "OQ0zlycW2RVT",
        "outputId": "a1b96aa8-0929-4d4d-a238-9c154233689e"
      },
      "execution_count": null,
      "outputs": [
        {
          "output_type": "stream",
          "name": "stdout",
          "text": [
            "{'__module__': '__main__', 'num_emps': 2, 'raise_amount': 1.04, '__init__': <function Employee.__init__ at 0x7d43846de5c0>, 'fullname': <function Employee.fullname at 0x7d43846df880>, 'apply_raise': <function Employee.apply_raise at 0x7d43846dde40>, '__dict__': <attribute '__dict__' of 'Employee' objects>, '__weakref__': <attribute '__weakref__' of 'Employee' objects>, '__doc__': None}\n",
            "True\n"
          ]
        }
      ]
    },
    {
      "cell_type": "code",
      "source": [
        "# instance name space\n",
        "print(emp_1.__dict__)\n",
        "print('raise_amount' in emp_1.__dict__)"
      ],
      "metadata": {
        "colab": {
          "base_uri": "https://localhost:8080/"
        },
        "id": "C5CTtCCHQE6C",
        "outputId": "8dff8537-2e86-4917-b9e8-0b1c80f50bdb"
      },
      "execution_count": null,
      "outputs": [
        {
          "output_type": "stream",
          "name": "stdout",
          "text": [
            "{'first': 'Corey', 'last': 'Schafer', 'pay': 52000, 'email': 'corey.schafer@company.com'}\n",
            "False\n"
          ]
        }
      ]
    },
    {
      "cell_type": "code",
      "source": [
        "# update class variable\n",
        "# doing this does NOT create instance-level attribute\n",
        "Employee.raise_amount = 1.05"
      ],
      "metadata": {
        "id": "jwkNIVgrRE9I"
      },
      "execution_count": null,
      "outputs": []
    },
    {
      "cell_type": "code",
      "source": [
        "# search instance-level attribute, if not found, will be redirected to class-level\n",
        "print(Employee.raise_amount)\n",
        "print(emp_1.raise_amount)\n",
        "print(emp_2.raise_amount)"
      ],
      "metadata": {
        "colab": {
          "base_uri": "https://localhost:8080/"
        },
        "id": "jret6mjmRbcr",
        "outputId": "56b3e512-d3a7-4c61-9c6f-f80f7d1a061d"
      },
      "execution_count": null,
      "outputs": [
        {
          "output_type": "stream",
          "name": "stdout",
          "text": [
            "1.05\n",
            "1.05\n",
            "1.05\n"
          ]
        }
      ]
    },
    {
      "cell_type": "code",
      "source": [
        "# instance name space\n",
        "print(emp_1.__dict__)"
      ],
      "metadata": {
        "colab": {
          "base_uri": "https://localhost:8080/"
        },
        "id": "ObBG1GKH19_j",
        "outputId": "81d09a50-f938-4a87-9415-3fa89a9a55bc"
      },
      "execution_count": null,
      "outputs": [
        {
          "output_type": "stream",
          "name": "stdout",
          "text": [
            "{'first': 'Corey', 'last': 'Schafer', 'pay': 52000, 'email': 'corey.schafer@company.com'}\n"
          ]
        }
      ]
    },
    {
      "cell_type": "code",
      "source": [
        "# update instance value of class variable\n",
        "# doing this CREATE instance-level attribute\n",
        "emp_1.raise_amount = 1.07"
      ],
      "metadata": {
        "id": "c3S66Yc9RcUq"
      },
      "execution_count": null,
      "outputs": []
    },
    {
      "cell_type": "code",
      "source": [
        "# search instance-level attribute will not be redirected to class-level anymore\n",
        "print(Employee.raise_amount)\n",
        "print(emp_1.raise_amount)\n",
        "print(emp_2.raise_amount)"
      ],
      "metadata": {
        "colab": {
          "base_uri": "https://localhost:8080/"
        },
        "id": "YlY9q0ijR7b_",
        "outputId": "faced0bb-4ad6-49df-a2f9-246927e05f2e"
      },
      "execution_count": null,
      "outputs": [
        {
          "output_type": "stream",
          "name": "stdout",
          "text": [
            "1.05\n",
            "1.07\n",
            "1.05\n"
          ]
        }
      ]
    },
    {
      "cell_type": "code",
      "source": [
        "# instance name space with newly added attribute\n",
        "print(emp_1.__dict__)"
      ],
      "metadata": {
        "colab": {
          "base_uri": "https://localhost:8080/"
        },
        "id": "BgHQkskiR8G1",
        "outputId": "3ea069be-ade2-4463-e7df-02e62389e2db"
      },
      "execution_count": null,
      "outputs": [
        {
          "output_type": "stream",
          "name": "stdout",
          "text": [
            "{'first': 'Corey', 'last': 'Schafer', 'pay': 52000, 'email': 'corey.schafer@company.com', 'raise_amount': 1.07}\n"
          ]
        }
      ]
    },
    {
      "cell_type": "code",
      "source": [
        "print(emp_2.__dict__)"
      ],
      "metadata": {
        "colab": {
          "base_uri": "https://localhost:8080/"
        },
        "id": "ccRVLq_ASaPw",
        "outputId": "41844817-8784-41a7-d2ab-8c04c7fcb39e"
      },
      "execution_count": null,
      "outputs": [
        {
          "output_type": "stream",
          "name": "stdout",
          "text": [
            "{'first': 'Test', 'last': 'User', 'pay': 60000, 'email': 'test.user@company.com'}\n"
          ]
        }
      ]
    },
    {
      "cell_type": "markdown",
      "source": [
        "Revert back to use class level attribute"
      ],
      "metadata": {
        "id": "ICEPSR984HSv"
      }
    },
    {
      "cell_type": "code",
      "source": [
        "# To use class level attribute again, we need to remove instance level one\n",
        "delattr(emp_1, \"raise_amount\")"
      ],
      "metadata": {
        "id": "Jmms4ySr1B62"
      },
      "execution_count": null,
      "outputs": []
    },
    {
      "cell_type": "code",
      "source": [
        "print(emp_1.__dict__)"
      ],
      "metadata": {
        "colab": {
          "base_uri": "https://localhost:8080/"
        },
        "id": "crRJj4n-4Jqi",
        "outputId": "f681584f-cc72-4576-9ffd-bd49063a25cd"
      },
      "execution_count": null,
      "outputs": [
        {
          "output_type": "stream",
          "name": "stdout",
          "text": [
            "{'first': 'Corey', 'last': 'Schafer', 'pay': 52000, 'email': 'corey.schafer@company.com'}\n"
          ]
        }
      ]
    },
    {
      "cell_type": "code",
      "source": [
        "print(Employee.raise_amount)\n",
        "print(emp_1.raise_amount)\n",
        "print(emp_2.raise_amount)"
      ],
      "metadata": {
        "colab": {
          "base_uri": "https://localhost:8080/"
        },
        "id": "99eWE4ml4MuT",
        "outputId": "f54e28a6-8bb0-46f0-a564-7cc42611ed85"
      },
      "execution_count": null,
      "outputs": [
        {
          "output_type": "stream",
          "name": "stdout",
          "text": [
            "1.05\n",
            "1.05\n",
            "1.05\n"
          ]
        }
      ]
    },
    {
      "cell_type": "markdown",
      "source": [
        "#### set attributes"
      ],
      "metadata": {
        "id": "6QotVLlIeATl"
      }
    },
    {
      "cell_type": "code",
      "source": [
        "class Person():\n",
        "  pass\n",
        "\n",
        "person_1 = Person()\n",
        "\n",
        "first_name = \"Corey\"\n",
        "last_name = \"Schafer\"\n",
        "\n",
        "# this is fine if we known attribute name\n",
        "person_1.first = first_name\n",
        "person_1.last = last_name\n",
        "print(person_1.first)\n",
        "print(person_1.last)"
      ],
      "metadata": {
        "id": "c7n2h1qX4SMa",
        "colab": {
          "base_uri": "https://localhost:8080/"
        },
        "outputId": "3a414d20-2fcf-4ad3-86eb-dc76e59e73f5"
      },
      "execution_count": 5,
      "outputs": [
        {
          "output_type": "stream",
          "name": "stdout",
          "text": [
            "Corey\n",
            "Schafer\n"
          ]
        }
      ]
    },
    {
      "cell_type": "code",
      "source": [
        "# if we have to grab the attribute name also from other places\n",
        "\n",
        "person_2 = Person()\n",
        "\n",
        "info = {\n",
        "  \"first\": \"Corey\",\n",
        "  \"last\": \"Schafer\"\n",
        "}\n",
        "\n",
        "for key, value in info.items():\n",
        "  setattr(person_2, key, value)\n",
        "\n",
        "print(person_2.first)\n",
        "print(person_2.last)\n",
        "print()\n",
        "\n",
        "# same for getattr\n",
        "for key in info.keys():\n",
        "  print(getattr(person_2, key))"
      ],
      "metadata": {
        "colab": {
          "base_uri": "https://localhost:8080/"
        },
        "id": "j3pTy5AWeONd",
        "outputId": "6b2eb489-8b67-438c-ce58-c1ddc00bfb84"
      },
      "execution_count": 8,
      "outputs": [
        {
          "output_type": "stream",
          "name": "stdout",
          "text": [
            "Corey\n",
            "Schafer\n",
            "\n",
            "Corey\n",
            "Schafer\n"
          ]
        }
      ]
    },
    {
      "cell_type": "code",
      "source": [],
      "metadata": {
        "id": "MvJbq16IfTwc"
      },
      "execution_count": null,
      "outputs": []
    }
  ]
}