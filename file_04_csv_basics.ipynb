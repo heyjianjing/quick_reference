{
  "nbformat": 4,
  "nbformat_minor": 0,
  "metadata": {
    "colab": {
      "provenance": []
    },
    "kernelspec": {
      "name": "python3",
      "display_name": "Python 3"
    },
    "language_info": {
      "name": "python"
    }
  },
  "cells": [
    {
      "cell_type": "markdown",
      "source": [
        "Run the last cell first to generate some data"
      ],
      "metadata": {
        "id": "ItdZ-T07bWIA"
      }
    },
    {
      "cell_type": "code",
      "source": [
        "import csv"
      ],
      "metadata": {
        "id": "1DwZfGL1TkzH"
      },
      "execution_count": 51,
      "outputs": []
    },
    {
      "cell_type": "markdown",
      "source": [
        "#### Regular reader/writer"
      ],
      "metadata": {
        "id": "rAFwD5vpWJ_O"
      }
    },
    {
      "cell_type": "code",
      "source": [
        "with open('names.csv', 'r') as csv_file:\n",
        "  # generator to iterate\n",
        "  csv_reader = csv.reader(csv_file)\n",
        "\n",
        "  # we can skip first line\n",
        "  next(csv_reader)\n",
        "\n",
        "  # each line is a list\n",
        "  for line in csv_reader:\n",
        "    print(line)"
      ],
      "metadata": {
        "colab": {
          "base_uri": "https://localhost:8080/"
        },
        "id": "0fUm3UFFTvBN",
        "outputId": "9a885279-0668-4d2d-8601-0675d749be8b"
      },
      "execution_count": 52,
      "outputs": [
        {
          "output_type": "stream",
          "name": "stdout",
          "text": [
            "['John', 'Doe', 'john-doe@bogusemail.com']\n",
            "['Mary', 'Smith-Robinson', 'maryjacobs@bogusemail.com']\n",
            "['Dave', 'Smith', 'davesmith@bogusemail.com']\n",
            "['Jane', 'Stuart', 'janestuart@bogusemail.com']\n",
            "['Tom', 'Wright', 'tomwright@bogusemail.com']\n",
            "['Steve', 'Robinson', 'steverobinson@bogusemail.com']\n",
            "['Nicole', 'Jacobs', 'nicolejacobs@bogusemail.com']\n",
            "['Jane', 'Wright', 'janewright@bogusemail.com']\n",
            "['Jane', 'Doe', 'janedoe@bogusemail.com']\n",
            "['Kurt', 'Wright', 'kurtwright@bogusemail.com']\n",
            "['Kurt', 'Robinson', 'kurtrobinson@bogusemail.com']\n",
            "['Jane', 'Jenkins', 'janejenkins@bogusemail.com']\n",
            "['Neil', 'Robinson', 'neilrobinson@bogusemail.com']\n",
            "['Tom', 'Patterson', 'tompatterson@bogusemail.com']\n",
            "['Sam', 'Jenkins', 'samjenkins@bogusemail.com']\n",
            "['Steve', 'Stuart', 'stevestuart@bogusemail.com']\n",
            "['Maggie', 'Patterson', 'maggiepatterson@bogusemail.com']\n",
            "['Maggie', 'Stuart', 'maggiestuart@bogusemail.com']\n",
            "['Jane', 'Doe', 'janedoe@bogusemail.com']\n",
            "['Steve', 'Patterson', 'stevepatterson@bogusemail.com']\n",
            "['Dave', 'Smith', 'davesmith@bogusemail.com']\n",
            "['Sam', 'Wilks', 'samwilks@bogusemail.com']\n",
            "['Kurt', 'Jefferson', 'kurtjefferson@bogusemail.com']\n",
            "['Sam', 'Stuart', 'samstuart@bogusemail.com']\n",
            "['Jane', 'Stuart', 'janestuart@bogusemail.com']\n",
            "['Dave', 'Davis', 'davedavis@bogusemail.com']\n",
            "['Sam', 'Patterson', 'sampatterson@bogusemail.com']\n",
            "['Tom', 'Jefferson', 'tomjefferson@bogusemail.com']\n",
            "['Jane', 'Stuart', 'janestuart@bogusemail.com']\n",
            "['Maggie', 'Jefferson', 'maggiejefferson@bogusemail.com']\n",
            "['Mary', 'Wilks', 'marywilks@bogusemail.com']\n",
            "['Neil', 'Patterson', 'neilpatterson@bogusemail.com']\n",
            "['Corey', 'Davis', 'coreydavis@bogusemail.com']\n",
            "['Steve', 'Jacobs', 'stevejacobs@bogusemail.com']\n",
            "['Jane', 'Jenkins', 'janejenkins@bogusemail.com']\n",
            "['John', 'Jacobs', 'johnjacobs@bogusemail.com']\n",
            "['Neil', 'Smith', 'neilsmith@bogusemail.com']\n",
            "['Corey', 'Wilks', 'coreywilks@bogusemail.com']\n",
            "['Corey', 'Smith', 'coreysmith@bogusemail.com']\n",
            "['Mary', 'Patterson', 'marypatterson@bogusemail.com']\n",
            "['Jane', 'Stuart', 'janestuart@bogusemail.com']\n",
            "['Travis', 'Arnold', 'travisarnold@bogusemail.com']\n",
            "['John', 'Robinson', 'johnrobinson@bogusemail.com']\n",
            "['Travis', 'Arnold', 'travisarnold@bogusemail.com']\n"
          ]
        }
      ]
    },
    {
      "cell_type": "markdown",
      "source": [
        "Write to a new csv, with different delimiter"
      ],
      "metadata": {
        "id": "TLr--AMUUxc-"
      }
    },
    {
      "cell_type": "code",
      "source": [
        "with open('names.csv', 'r') as csv_file:\n",
        "  # generator to iterate\n",
        "  csv_reader = csv.reader(csv_file)\n",
        "\n",
        "  with open('new_names.csv', 'w') as new_file:\n",
        "    # tab made it easier to read\n",
        "    csv_writer = csv.writer(new_file, delimiter='\\t')\n",
        "\n",
        "    for line in csv_reader:\n",
        "      csv_writer.writerow(line)"
      ],
      "metadata": {
        "id": "M21KIN0bUwOy"
      },
      "execution_count": 53,
      "outputs": []
    },
    {
      "cell_type": "code",
      "source": [
        "!cat new_names.csv"
      ],
      "metadata": {
        "colab": {
          "base_uri": "https://localhost:8080/"
        },
        "id": "YXkvgm0EVPnN",
        "outputId": "a2986beb-1cc1-481f-ea1a-341ea25a7aa9"
      },
      "execution_count": 54,
      "outputs": [
        {
          "output_type": "stream",
          "name": "stdout",
          "text": [
            "first_name\tlast_name\temail\r\n",
            "John\tDoe\tjohn-doe@bogusemail.com\r\n",
            "Mary\tSmith-Robinson\tmaryjacobs@bogusemail.com\r\n",
            "Dave\tSmith\tdavesmith@bogusemail.com\r\n",
            "Jane\tStuart\tjanestuart@bogusemail.com\r\n",
            "Tom\tWright\ttomwright@bogusemail.com\r\n",
            "Steve\tRobinson\tsteverobinson@bogusemail.com\r\n",
            "Nicole\tJacobs\tnicolejacobs@bogusemail.com\r\n",
            "Jane\tWright\tjanewright@bogusemail.com\r\n",
            "Jane\tDoe\tjanedoe@bogusemail.com\r\n",
            "Kurt\tWright\tkurtwright@bogusemail.com\r\n",
            "Kurt\tRobinson\tkurtrobinson@bogusemail.com\r\n",
            "Jane\tJenkins\tjanejenkins@bogusemail.com\r\n",
            "Neil\tRobinson\tneilrobinson@bogusemail.com\r\n",
            "Tom\tPatterson\ttompatterson@bogusemail.com\r\n",
            "Sam\tJenkins\tsamjenkins@bogusemail.com\r\n",
            "Steve\tStuart\tstevestuart@bogusemail.com\r\n",
            "Maggie\tPatterson\tmaggiepatterson@bogusemail.com\r\n",
            "Maggie\tStuart\tmaggiestuart@bogusemail.com\r\n",
            "Jane\tDoe\tjanedoe@bogusemail.com\r\n",
            "Steve\tPatterson\tstevepatterson@bogusemail.com\r\n",
            "Dave\tSmith\tdavesmith@bogusemail.com\r\n",
            "Sam\tWilks\tsamwilks@bogusemail.com\r\n",
            "Kurt\tJefferson\tkurtjefferson@bogusemail.com\r\n",
            "Sam\tStuart\tsamstuart@bogusemail.com\r\n",
            "Jane\tStuart\tjanestuart@bogusemail.com\r\n",
            "Dave\tDavis\tdavedavis@bogusemail.com\r\n",
            "Sam\tPatterson\tsampatterson@bogusemail.com\r\n",
            "Tom\tJefferson\ttomjefferson@bogusemail.com\r\n",
            "Jane\tStuart\tjanestuart@bogusemail.com\r\n",
            "Maggie\tJefferson\tmaggiejefferson@bogusemail.com\r\n",
            "Mary\tWilks\tmarywilks@bogusemail.com\r\n",
            "Neil\tPatterson\tneilpatterson@bogusemail.com\r\n",
            "Corey\tDavis\tcoreydavis@bogusemail.com\r\n",
            "Steve\tJacobs\tstevejacobs@bogusemail.com\r\n",
            "Jane\tJenkins\tjanejenkins@bogusemail.com\r\n",
            "John\tJacobs\tjohnjacobs@bogusemail.com\r\n",
            "Neil\tSmith\tneilsmith@bogusemail.com\r\n",
            "Corey\tWilks\tcoreywilks@bogusemail.com\r\n",
            "Corey\tSmith\tcoreysmith@bogusemail.com\r\n",
            "Mary\tPatterson\tmarypatterson@bogusemail.com\r\n",
            "Jane\tStuart\tjanestuart@bogusemail.com\r\n",
            "Travis\tArnold\ttravisarnold@bogusemail.com\r\n",
            "John\tRobinson\tjohnrobinson@bogusemail.com\r\n",
            "Travis\tArnold\ttravisarnold@bogusemail.com\r\n"
          ]
        }
      ]
    },
    {
      "cell_type": "code",
      "source": [
        "with open('new_names.csv', 'r') as csv_file:\n",
        "  # explicitly pass delimiter if not comma\n",
        "  csv_reader = csv.reader(csv_file, delimiter='\\t')\n",
        "\n",
        "  # we can skip first line\n",
        "  next(csv_reader)\n",
        "\n",
        "  # each line is a list\n",
        "  for line in csv_reader:\n",
        "    print(line)"
      ],
      "metadata": {
        "colab": {
          "base_uri": "https://localhost:8080/"
        },
        "id": "ap1u98CGVzfm",
        "outputId": "6cfd438c-61cb-400d-b1ed-459378949508"
      },
      "execution_count": 55,
      "outputs": [
        {
          "output_type": "stream",
          "name": "stdout",
          "text": [
            "['John', 'Doe', 'john-doe@bogusemail.com']\n",
            "['Mary', 'Smith-Robinson', 'maryjacobs@bogusemail.com']\n",
            "['Dave', 'Smith', 'davesmith@bogusemail.com']\n",
            "['Jane', 'Stuart', 'janestuart@bogusemail.com']\n",
            "['Tom', 'Wright', 'tomwright@bogusemail.com']\n",
            "['Steve', 'Robinson', 'steverobinson@bogusemail.com']\n",
            "['Nicole', 'Jacobs', 'nicolejacobs@bogusemail.com']\n",
            "['Jane', 'Wright', 'janewright@bogusemail.com']\n",
            "['Jane', 'Doe', 'janedoe@bogusemail.com']\n",
            "['Kurt', 'Wright', 'kurtwright@bogusemail.com']\n",
            "['Kurt', 'Robinson', 'kurtrobinson@bogusemail.com']\n",
            "['Jane', 'Jenkins', 'janejenkins@bogusemail.com']\n",
            "['Neil', 'Robinson', 'neilrobinson@bogusemail.com']\n",
            "['Tom', 'Patterson', 'tompatterson@bogusemail.com']\n",
            "['Sam', 'Jenkins', 'samjenkins@bogusemail.com']\n",
            "['Steve', 'Stuart', 'stevestuart@bogusemail.com']\n",
            "['Maggie', 'Patterson', 'maggiepatterson@bogusemail.com']\n",
            "['Maggie', 'Stuart', 'maggiestuart@bogusemail.com']\n",
            "['Jane', 'Doe', 'janedoe@bogusemail.com']\n",
            "['Steve', 'Patterson', 'stevepatterson@bogusemail.com']\n",
            "['Dave', 'Smith', 'davesmith@bogusemail.com']\n",
            "['Sam', 'Wilks', 'samwilks@bogusemail.com']\n",
            "['Kurt', 'Jefferson', 'kurtjefferson@bogusemail.com']\n",
            "['Sam', 'Stuart', 'samstuart@bogusemail.com']\n",
            "['Jane', 'Stuart', 'janestuart@bogusemail.com']\n",
            "['Dave', 'Davis', 'davedavis@bogusemail.com']\n",
            "['Sam', 'Patterson', 'sampatterson@bogusemail.com']\n",
            "['Tom', 'Jefferson', 'tomjefferson@bogusemail.com']\n",
            "['Jane', 'Stuart', 'janestuart@bogusemail.com']\n",
            "['Maggie', 'Jefferson', 'maggiejefferson@bogusemail.com']\n",
            "['Mary', 'Wilks', 'marywilks@bogusemail.com']\n",
            "['Neil', 'Patterson', 'neilpatterson@bogusemail.com']\n",
            "['Corey', 'Davis', 'coreydavis@bogusemail.com']\n",
            "['Steve', 'Jacobs', 'stevejacobs@bogusemail.com']\n",
            "['Jane', 'Jenkins', 'janejenkins@bogusemail.com']\n",
            "['John', 'Jacobs', 'johnjacobs@bogusemail.com']\n",
            "['Neil', 'Smith', 'neilsmith@bogusemail.com']\n",
            "['Corey', 'Wilks', 'coreywilks@bogusemail.com']\n",
            "['Corey', 'Smith', 'coreysmith@bogusemail.com']\n",
            "['Mary', 'Patterson', 'marypatterson@bogusemail.com']\n",
            "['Jane', 'Stuart', 'janestuart@bogusemail.com']\n",
            "['Travis', 'Arnold', 'travisarnold@bogusemail.com']\n",
            "['John', 'Robinson', 'johnrobinson@bogusemail.com']\n",
            "['Travis', 'Arnold', 'travisarnold@bogusemail.com']\n"
          ]
        }
      ]
    },
    {
      "cell_type": "markdown",
      "source": [
        "#### Dictionary reader/writer"
      ],
      "metadata": {
        "id": "QgntZ3G7WOiq"
      }
    },
    {
      "cell_type": "markdown",
      "source": [
        "Here, file names become keys, so no need to skip first line\n",
        "\n",
        "And much easier to parse out information that we want"
      ],
      "metadata": {
        "id": "j7c1bldBXQqK"
      }
    },
    {
      "cell_type": "code",
      "source": [
        "with open('names.csv', 'r') as csv_file:\n",
        "  csv_reader = csv.DictReader(csv_file)\n",
        "\n",
        "  for line in csv_reader:\n",
        "    print(line)"
      ],
      "metadata": {
        "colab": {
          "base_uri": "https://localhost:8080/"
        },
        "id": "DKjvOoFeWSPU",
        "outputId": "32c34461-2067-4fa1-b184-593a3fc088dc"
      },
      "execution_count": 56,
      "outputs": [
        {
          "output_type": "stream",
          "name": "stdout",
          "text": [
            "{'first_name': 'John', 'last_name': 'Doe', 'email': 'john-doe@bogusemail.com'}\n",
            "{'first_name': 'Mary', 'last_name': 'Smith-Robinson', 'email': 'maryjacobs@bogusemail.com'}\n",
            "{'first_name': 'Dave', 'last_name': 'Smith', 'email': 'davesmith@bogusemail.com'}\n",
            "{'first_name': 'Jane', 'last_name': 'Stuart', 'email': 'janestuart@bogusemail.com'}\n",
            "{'first_name': 'Tom', 'last_name': 'Wright', 'email': 'tomwright@bogusemail.com'}\n",
            "{'first_name': 'Steve', 'last_name': 'Robinson', 'email': 'steverobinson@bogusemail.com'}\n",
            "{'first_name': 'Nicole', 'last_name': 'Jacobs', 'email': 'nicolejacobs@bogusemail.com'}\n",
            "{'first_name': 'Jane', 'last_name': 'Wright', 'email': 'janewright@bogusemail.com'}\n",
            "{'first_name': 'Jane', 'last_name': 'Doe', 'email': 'janedoe@bogusemail.com'}\n",
            "{'first_name': 'Kurt', 'last_name': 'Wright', 'email': 'kurtwright@bogusemail.com'}\n",
            "{'first_name': 'Kurt', 'last_name': 'Robinson', 'email': 'kurtrobinson@bogusemail.com'}\n",
            "{'first_name': 'Jane', 'last_name': 'Jenkins', 'email': 'janejenkins@bogusemail.com'}\n",
            "{'first_name': 'Neil', 'last_name': 'Robinson', 'email': 'neilrobinson@bogusemail.com'}\n",
            "{'first_name': 'Tom', 'last_name': 'Patterson', 'email': 'tompatterson@bogusemail.com'}\n",
            "{'first_name': 'Sam', 'last_name': 'Jenkins', 'email': 'samjenkins@bogusemail.com'}\n",
            "{'first_name': 'Steve', 'last_name': 'Stuart', 'email': 'stevestuart@bogusemail.com'}\n",
            "{'first_name': 'Maggie', 'last_name': 'Patterson', 'email': 'maggiepatterson@bogusemail.com'}\n",
            "{'first_name': 'Maggie', 'last_name': 'Stuart', 'email': 'maggiestuart@bogusemail.com'}\n",
            "{'first_name': 'Jane', 'last_name': 'Doe', 'email': 'janedoe@bogusemail.com'}\n",
            "{'first_name': 'Steve', 'last_name': 'Patterson', 'email': 'stevepatterson@bogusemail.com'}\n",
            "{'first_name': 'Dave', 'last_name': 'Smith', 'email': 'davesmith@bogusemail.com'}\n",
            "{'first_name': 'Sam', 'last_name': 'Wilks', 'email': 'samwilks@bogusemail.com'}\n",
            "{'first_name': 'Kurt', 'last_name': 'Jefferson', 'email': 'kurtjefferson@bogusemail.com'}\n",
            "{'first_name': 'Sam', 'last_name': 'Stuart', 'email': 'samstuart@bogusemail.com'}\n",
            "{'first_name': 'Jane', 'last_name': 'Stuart', 'email': 'janestuart@bogusemail.com'}\n",
            "{'first_name': 'Dave', 'last_name': 'Davis', 'email': 'davedavis@bogusemail.com'}\n",
            "{'first_name': 'Sam', 'last_name': 'Patterson', 'email': 'sampatterson@bogusemail.com'}\n",
            "{'first_name': 'Tom', 'last_name': 'Jefferson', 'email': 'tomjefferson@bogusemail.com'}\n",
            "{'first_name': 'Jane', 'last_name': 'Stuart', 'email': 'janestuart@bogusemail.com'}\n",
            "{'first_name': 'Maggie', 'last_name': 'Jefferson', 'email': 'maggiejefferson@bogusemail.com'}\n",
            "{'first_name': 'Mary', 'last_name': 'Wilks', 'email': 'marywilks@bogusemail.com'}\n",
            "{'first_name': 'Neil', 'last_name': 'Patterson', 'email': 'neilpatterson@bogusemail.com'}\n",
            "{'first_name': 'Corey', 'last_name': 'Davis', 'email': 'coreydavis@bogusemail.com'}\n",
            "{'first_name': 'Steve', 'last_name': 'Jacobs', 'email': 'stevejacobs@bogusemail.com'}\n",
            "{'first_name': 'Jane', 'last_name': 'Jenkins', 'email': 'janejenkins@bogusemail.com'}\n",
            "{'first_name': 'John', 'last_name': 'Jacobs', 'email': 'johnjacobs@bogusemail.com'}\n",
            "{'first_name': 'Neil', 'last_name': 'Smith', 'email': 'neilsmith@bogusemail.com'}\n",
            "{'first_name': 'Corey', 'last_name': 'Wilks', 'email': 'coreywilks@bogusemail.com'}\n",
            "{'first_name': 'Corey', 'last_name': 'Smith', 'email': 'coreysmith@bogusemail.com'}\n",
            "{'first_name': 'Mary', 'last_name': 'Patterson', 'email': 'marypatterson@bogusemail.com'}\n",
            "{'first_name': 'Jane', 'last_name': 'Stuart', 'email': 'janestuart@bogusemail.com'}\n",
            "{'first_name': 'Travis', 'last_name': 'Arnold', 'email': 'travisarnold@bogusemail.com'}\n",
            "{'first_name': 'John', 'last_name': 'Robinson', 'email': 'johnrobinson@bogusemail.com'}\n",
            "{'first_name': 'Travis', 'last_name': 'Arnold', 'email': 'travisarnold@bogusemail.com'}\n"
          ]
        }
      ]
    },
    {
      "cell_type": "markdown",
      "source": [
        "To write using dictionary writer, we need to provide file field names"
      ],
      "metadata": {
        "id": "ey3GQO6nXlCT"
      }
    },
    {
      "cell_type": "code",
      "source": [
        "with open('names.csv', 'r') as csv_file:\n",
        "  csv_reader = csv.DictReader(csv_file)\n",
        "\n",
        "  with open('new_names_dict.csv', 'w') as new_file:\n",
        "    # field names must match key name in each line passed to writer\n",
        "    fieldnames = csv_reader.fieldnames\n",
        "    filtered_names = [n for n in fieldnames if n!='email']\n",
        "\n",
        "    csv_writer = csv.DictWriter(new_file, fieldnames=filtered_names, delimiter='\\t')\n",
        "\n",
        "    # optional whether to write header\n",
        "    csv_writer.writeheader()\n",
        "\n",
        "    for line in csv_reader:\n",
        "      # write all field\n",
        "      # csv_writer.writerow(line)\n",
        "\n",
        "      # if we just need some field, we need to form the dict\n",
        "      csv_writer.writerow({\n",
        "        n: line[n] for n in filtered_names\n",
        "      })"
      ],
      "metadata": {
        "id": "OOSuG9xyXrYa"
      },
      "execution_count": 57,
      "outputs": []
    },
    {
      "cell_type": "code",
      "source": [
        "!cat new_names_dict.csv"
      ],
      "metadata": {
        "colab": {
          "base_uri": "https://localhost:8080/"
        },
        "id": "cQ0MFzDlYMLH",
        "outputId": "79bcc79b-4c3e-4427-ea91-0b9e7f3148ac"
      },
      "execution_count": 58,
      "outputs": [
        {
          "output_type": "stream",
          "name": "stdout",
          "text": [
            "first_name\tlast_name\r\n",
            "John\tDoe\r\n",
            "Mary\tSmith-Robinson\r\n",
            "Dave\tSmith\r\n",
            "Jane\tStuart\r\n",
            "Tom\tWright\r\n",
            "Steve\tRobinson\r\n",
            "Nicole\tJacobs\r\n",
            "Jane\tWright\r\n",
            "Jane\tDoe\r\n",
            "Kurt\tWright\r\n",
            "Kurt\tRobinson\r\n",
            "Jane\tJenkins\r\n",
            "Neil\tRobinson\r\n",
            "Tom\tPatterson\r\n",
            "Sam\tJenkins\r\n",
            "Steve\tStuart\r\n",
            "Maggie\tPatterson\r\n",
            "Maggie\tStuart\r\n",
            "Jane\tDoe\r\n",
            "Steve\tPatterson\r\n",
            "Dave\tSmith\r\n",
            "Sam\tWilks\r\n",
            "Kurt\tJefferson\r\n",
            "Sam\tStuart\r\n",
            "Jane\tStuart\r\n",
            "Dave\tDavis\r\n",
            "Sam\tPatterson\r\n",
            "Tom\tJefferson\r\n",
            "Jane\tStuart\r\n",
            "Maggie\tJefferson\r\n",
            "Mary\tWilks\r\n",
            "Neil\tPatterson\r\n",
            "Corey\tDavis\r\n",
            "Steve\tJacobs\r\n",
            "Jane\tJenkins\r\n",
            "John\tJacobs\r\n",
            "Neil\tSmith\r\n",
            "Corey\tWilks\r\n",
            "Corey\tSmith\r\n",
            "Mary\tPatterson\r\n",
            "Jane\tStuart\r\n",
            "Travis\tArnold\r\n",
            "John\tRobinson\r\n",
            "Travis\tArnold\r\n"
          ]
        }
      ]
    },
    {
      "cell_type": "markdown",
      "source": [
        "#### Run this first"
      ],
      "metadata": {
        "id": "iAtdN00zXdiK"
      }
    },
    {
      "cell_type": "code",
      "source": [
        "%%writefile names.csv\n",
        "first_name,last_name,email\n",
        "John,Doe,john-doe@bogusemail.com\n",
        "Mary,Smith-Robinson,maryjacobs@bogusemail.com\n",
        "Dave,Smith,davesmith@bogusemail.com\n",
        "Jane,Stuart,janestuart@bogusemail.com\n",
        "Tom,Wright,tomwright@bogusemail.com\n",
        "Steve,Robinson,steverobinson@bogusemail.com\n",
        "Nicole,Jacobs,nicolejacobs@bogusemail.com\n",
        "Jane,Wright,janewright@bogusemail.com\n",
        "Jane,Doe,janedoe@bogusemail.com\n",
        "Kurt,Wright,kurtwright@bogusemail.com\n",
        "Kurt,Robinson,kurtrobinson@bogusemail.com\n",
        "Jane,Jenkins,janejenkins@bogusemail.com\n",
        "Neil,Robinson,neilrobinson@bogusemail.com\n",
        "Tom,Patterson,tompatterson@bogusemail.com\n",
        "Sam,Jenkins,samjenkins@bogusemail.com\n",
        "Steve,Stuart,stevestuart@bogusemail.com\n",
        "Maggie,Patterson,maggiepatterson@bogusemail.com\n",
        "Maggie,Stuart,maggiestuart@bogusemail.com\n",
        "Jane,Doe,janedoe@bogusemail.com\n",
        "Steve,Patterson,stevepatterson@bogusemail.com\n",
        "Dave,Smith,davesmith@bogusemail.com\n",
        "Sam,Wilks,samwilks@bogusemail.com\n",
        "Kurt,Jefferson,kurtjefferson@bogusemail.com\n",
        "Sam,Stuart,samstuart@bogusemail.com\n",
        "Jane,Stuart,janestuart@bogusemail.com\n",
        "Dave,Davis,davedavis@bogusemail.com\n",
        "Sam,Patterson,sampatterson@bogusemail.com\n",
        "Tom,Jefferson,tomjefferson@bogusemail.com\n",
        "Jane,Stuart,janestuart@bogusemail.com\n",
        "Maggie,Jefferson,maggiejefferson@bogusemail.com\n",
        "Mary,Wilks,marywilks@bogusemail.com\n",
        "Neil,Patterson,neilpatterson@bogusemail.com\n",
        "Corey,Davis,coreydavis@bogusemail.com\n",
        "Steve,Jacobs,stevejacobs@bogusemail.com\n",
        "Jane,Jenkins,janejenkins@bogusemail.com\n",
        "John,Jacobs,johnjacobs@bogusemail.com\n",
        "Neil,Smith,neilsmith@bogusemail.com\n",
        "Corey,Wilks,coreywilks@bogusemail.com\n",
        "Corey,Smith,coreysmith@bogusemail.com\n",
        "Mary,Patterson,marypatterson@bogusemail.com\n",
        "Jane,Stuart,janestuart@bogusemail.com\n",
        "Travis,Arnold,travisarnold@bogusemail.com\n",
        "John,Robinson,johnrobinson@bogusemail.com\n",
        "Travis,Arnold,travisarnold@bogusemail.com"
      ],
      "metadata": {
        "colab": {
          "base_uri": "https://localhost:8080/"
        },
        "id": "-ZpBs6X9TZz1",
        "outputId": "1064ef05-c6df-49ec-b9da-928bcd568003"
      },
      "execution_count": 5,
      "outputs": [
        {
          "output_type": "stream",
          "name": "stdout",
          "text": [
            "Writing names.csv\n"
          ]
        }
      ]
    }
  ]
}