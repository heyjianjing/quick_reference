{
  "nbformat": 4,
  "nbformat_minor": 0,
  "metadata": {
    "colab": {
      "provenance": []
    },
    "kernelspec": {
      "name": "python3",
      "display_name": "Python 3"
    },
    "language_info": {
      "name": "python"
    }
  },
  "cells": [
    {
      "cell_type": "markdown",
      "source": [
        "Allow to search for specific patterns of text"
      ],
      "metadata": {
        "id": "8xNdOEVLvxAy"
      }
    },
    {
      "cell_type": "markdown",
      "source": [
        "    .       - Any Character Except New Line\n",
        "    \\d      - Digit (0-9)\n",
        "    \\D      - Not a Digit (0-9)\n",
        "    \\w      - Word Character (a-z, A-Z, 0-9, _)\n",
        "    \\W      - Not a Word Character\n",
        "    \\s      - Whitespace (space, tab, newline)\n",
        "    \\S      - Not Whitespace (space, tab, newline)\n",
        "\n",
        "    \\b      - Word Boundary (invisible placeholder)\n",
        "    \\B      - Not a Word Boundary\n",
        "    ^       - Beginning of a String (line)\n",
        "    $       - End of a String\n",
        "\n",
        "    []      - Matches Characters in brackets\n",
        "    [1-7]   - Matches Number between 1 and 7\n",
        "    [a-z]   - Matches Lower case letters a-z\n",
        "    [a-zA-B]- Matches Lower case letters a-z and upper case A-B\n",
        "    [^ ]    - Matches Characters NOT in brackets\n",
        "    [^a-b]  - Matches Characters that is NOT lower case a-b\n",
        "    |       - Either Or\n",
        "    ( )     - Group\n",
        "\n",
        "    Quantifiers (how many we try to match):\n",
        "    *       - 0 or More\n",
        "    +       - 1 or More\n",
        "    ?       - 0 or One\n",
        "    {3}     - Exact Number\n",
        "    {3,4}   - Range of Numbers (Minimum, Maximum)\n",
        "\n",
        "    Other\n",
        "    (?<!@)  - look around (?), ensure character immediately before (<) is not (!) @"
      ],
      "metadata": {
        "id": "6LdNR1Jnwh_T"
      }
    },
    {
      "cell_type": "markdown",
      "source": [
        "    abcdefghijklmnopqurtuvwxyz\n",
        "    ABCDEFGHIJKLMNOPQRSTUVWXYZ\n",
        "    1234567890\n",
        "\n",
        "    Ha HaHa\n",
        "\n",
        "    MetaCharacters (Need to be escaped with \\):\n",
        "    .[{()\\^$|?*+\n",
        "\n",
        "    coreyms.com\n",
        "\n",
        "    cat\n",
        "    mat\n",
        "    pat\n",
        "    bat\n",
        "    Kat\n",
        "    Yat\n",
        "    ppat\n",
        "\n",
        "    321-555-4321\n",
        "    123.555.1234\n",
        "    123*555+1234\n",
        "    321--555-4321\n",
        "    800-555-4321\n",
        "    900-555-4321\n",
        "\n",
        "    Mr. Schafer\n",
        "    Mr Smith\n",
        "    Ms Davis\n",
        "    mrs Kane\n",
        "    Mrs. Robinson\n",
        "    ms.  Rush\n",
        "    Mr.   T\n",
        "    Mr.   jmat\n",
        "\n",
        "    CoreyMSchafer@gmail.com\n",
        "    corey.schafer@university.edu\n",
        "    corey-321-schafer@my-work.net\n",
        "\n",
        "    https://www.google.com\n",
        "    http://coreyms.com\n",
        "    https://youtube.com\n",
        "    https://www.nasa.gov"
      ],
      "metadata": {
        "id": "vcgexO0jx7Q0"
      }
    },
    {
      "cell_type": "markdown",
      "source": [
        "#### Phone number"
      ],
      "metadata": {
        "id": "aGnCFtWix_Rx"
      }
    },
    {
      "cell_type": "markdown",
      "source": [
        "To match `321-555-4321`\n",
        "\n",
        "    \\d{3}.\\d{3}.\\d{4}"
      ],
      "metadata": {
        "id": "ZibQ4_UFyJGT"
      }
    },
    {
      "cell_type": "markdown",
      "source": [
        "If we only want to match `-` or `.` as separator, we need to use character set\n",
        "\n",
        "in character set, we don't need to use `\\` to specify `.`\n",
        "\n",
        "    \\d{3}[-.]\\d{3}[-.]\\d{4}"
      ],
      "metadata": {
        "id": "J0L5vCszygfX"
      }
    },
    {
      "cell_type": "markdown",
      "source": [
        "If we only want to match 800 or 900 numbers\n",
        "\n",
        "    [89]00[-.]\\d{3}[-.]\\d{4}"
      ],
      "metadata": {
        "id": "yAY7KqkuzcMF"
      }
    },
    {
      "cell_type": "markdown",
      "source": [
        "If we also want to match things like `321--555-4321`\n",
        "\n",
        "    \\d{3}[-.]{1,2}\\d{3}[-.]{1,2}\\d{4}"
      ],
      "metadata": {
        "id": "yn1yvI39zJAF"
      }
    },
    {
      "cell_type": "markdown",
      "source": [
        "#### Characters"
      ],
      "metadata": {
        "id": "jY9r43Fo08ue"
      }
    },
    {
      "cell_type": "markdown",
      "source": [
        "Match all 3 letter words end in `at`, but not bat\n",
        "\n",
        "    \\b[ac-zA-Z]at\\b"
      ],
      "metadata": {
        "id": "cjnQuF1h0-Ur"
      }
    },
    {
      "cell_type": "markdown",
      "source": [
        "Match Mr xxx or Mr. xxx or mr xxx or mr. xxx"
      ],
      "metadata": {
        "id": "yFnzIaFN5hQo"
      }
    },
    {
      "cell_type": "markdown",
      "source": [
        "    \\b[Mm]r\\.?\\s+[A-Z]\\w*"
      ],
      "metadata": {
        "id": "dARgZ2xZ5kLB"
      }
    },
    {
      "cell_type": "markdown",
      "source": [
        "Use group to match ms mrs. mrs etc\n",
        "\n",
        "    \\b[Mm](r|s|rs)\\.?\\s+[A-Z]\\w*"
      ],
      "metadata": {
        "id": "Dqo9CZno64lg"
      }
    },
    {
      "cell_type": "markdown",
      "source": [
        "#### Email address"
      ],
      "metadata": {
        "id": "B9ebw-tb7zUe"
      }
    },
    {
      "cell_type": "markdown",
      "source": [
        "    \\b[A-Za-z0-9._-]+@[A-Za-z0-9._-]+\\.[A-Za-z0-9._-]+"
      ],
      "metadata": {
        "id": "SpFgYXVR9Vht"
      }
    },
    {
      "cell_type": "markdown",
      "source": [
        "#### Urls"
      ],
      "metadata": {
        "id": "d-EiX5Xx-Frn"
      }
    },
    {
      "cell_type": "markdown",
      "source": [
        "Use group makes it easier to capture and retrieve information\n",
        "\n",
        "    https?://(www\\.)?(\\w+)(\\.\\w+)"
      ],
      "metadata": {
        "id": "huDNS3Xk-KOx"
      }
    },
    {
      "cell_type": "markdown",
      "source": [
        "#### In Python"
      ],
      "metadata": {
        "id": "pQLIsuBoBdkY"
      }
    },
    {
      "cell_type": "code",
      "execution_count": 37,
      "metadata": {
        "id": "Rtp9uI-hvcHU"
      },
      "outputs": [],
      "source": [
        "import re\n",
        "\n",
        "text_to_search = \"\"\"\n",
        "\n",
        "  abcdefghijklmnopqurtuvwxyz\n",
        "  ABCDEFGHIJKLMNOPQRSTUVWXYZ\n",
        "  1234567890\n",
        "\n",
        "  Ha HaHa\n",
        "\n",
        "  MetaCharacters (Need to be escaped with \\):\n",
        "  .[{()\\^$|?*+\n",
        "\n",
        "  coreyms.com\n",
        "\n",
        "  cat\n",
        "  mat\n",
        "  pat\n",
        "  bat\n",
        "  Kat\n",
        "  Yat\n",
        "  ppat\n",
        "\n",
        "  321-555-4321\n",
        "  123.555.1234\n",
        "  123*555+1234\n",
        "  321--555-4321\n",
        "  800-555-4321\n",
        "  900-555-4321\n",
        "\n",
        "  Mr. Schafer\n",
        "  Mr Smith\n",
        "  Ms Davis\n",
        "  mrs Kane\n",
        "  Mrs. Robinson\n",
        "  ms.  Rush\n",
        "  Mr.   T\n",
        "  Mr.   jmat\n",
        "\n",
        "  CoreyMSchafer@gmail.com\n",
        "  corey.schafer@university.edu\n",
        "  corey-321-schafer@my-work.net\n",
        "\n",
        "  https://www.google.com\n",
        "  http://coreyms.com\n",
        "  https://youtube.com\n",
        "  https://www.nasa.gov\n",
        "\n",
        "sentence = 'start a sentence and then Bring it to an end'\n",
        "\"\"\""
      ]
    },
    {
      "cell_type": "markdown",
      "source": [
        "Don't forget to use `/r` to let Python treat pattern as raw string"
      ],
      "metadata": {
        "id": "qdwusSFWCiY1"
      }
    },
    {
      "cell_type": "code",
      "source": [
        "url_pattern = re.compile(r'\\b(https?://)?(www\\.)?((\\w|[-._])+)(\\.[a-z]+)\\b(?![^@\\s]*@)')\n",
        "\n",
        "url_matches = url_pattern.finditer(text_to_search)\n",
        "\n",
        "for match in url_matches:\n",
        "    print(match)"
      ],
      "metadata": {
        "colab": {
          "base_uri": "https://localhost:8080/"
        },
        "id": "D6EM2agIBowk",
        "outputId": "b3b82b65-f39e-4c39-da78-ee4302ab7d2f"
      },
      "execution_count": 38,
      "outputs": [
        {
          "output_type": "stream",
          "name": "stdout",
          "text": [
            "<re.Match object; span=(149, 160), match='coreyms.com'>\n",
            "<re.Match object; span=(413, 422), match='gmail.com'>\n",
            "<re.Match object; span=(439, 453), match='university.edu'>\n",
            "<re.Match object; span=(474, 485), match='my-work.net'>\n",
            "<re.Match object; span=(489, 511), match='https://www.google.com'>\n",
            "<re.Match object; span=(514, 532), match='http://coreyms.com'>\n",
            "<re.Match object; span=(535, 554), match='https://youtube.com'>\n",
            "<re.Match object; span=(557, 577), match='https://www.nasa.gov'>\n"
          ]
        }
      ]
    },
    {
      "cell_type": "code",
      "source": [
        "email_pattern = re.compile(r'\\b[A-Za-z0-9._-]+@[A-Za-z0-9._-]+(\\.[A-Za-z0-9._-]+)')\n",
        "\n",
        "email_matches = email_pattern.finditer(text_to_search)\n",
        "\n",
        "# we can do by group\n",
        "for match in email_matches:\n",
        "    print(match.group(1))"
      ],
      "metadata": {
        "colab": {
          "base_uri": "https://localhost:8080/"
        },
        "id": "SSeuv4I5CwxY",
        "outputId": "dee81e64-8328-4617-9898-2dec0adce7d6"
      },
      "execution_count": 39,
      "outputs": [
        {
          "output_type": "stream",
          "name": "stdout",
          "text": [
            ".com\n",
            ".edu\n",
            ".net\n"
          ]
        }
      ]
    },
    {
      "cell_type": "code",
      "source": [],
      "metadata": {
        "id": "EH35bUGEIlXB"
      },
      "execution_count": 39,
      "outputs": []
    }
  ]
}