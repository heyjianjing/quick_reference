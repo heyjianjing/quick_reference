{
  "nbformat": 4,
  "nbformat_minor": 0,
  "metadata": {
    "colab": {
      "provenance": []
    },
    "kernelspec": {
      "name": "python3",
      "display_name": "Python 3"
    },
    "language_info": {
      "name": "python"
    }
  },
  "cells": [
    {
      "cell_type": "code",
      "execution_count": 1,
      "metadata": {
        "colab": {
          "base_uri": "https://localhost:8080/"
        },
        "id": "hMeIEuvvhg12",
        "outputId": "06fee535-55de-4787-ab80-2924dc775476"
      },
      "outputs": [
        {
          "output_type": "stream",
          "name": "stdout",
          "text": [
            "Writing test.txt\n"
          ]
        }
      ],
      "source": [
        "%%writefile test.txt"
      ]
    },
    {
      "cell_type": "code",
      "source": [
        "%%writefile thumbnail.png"
      ],
      "metadata": {
        "colab": {
          "base_uri": "https://localhost:8080/"
        },
        "id": "nnY8AJylhrjF",
        "outputId": "03687c53-03e0-4d56-9706-ba38dc33afee"
      },
      "execution_count": 2,
      "outputs": [
        {
          "output_type": "stream",
          "name": "stdout",
          "text": [
            "Writing thumbnail.png\n"
          ]
        }
      ]
    },
    {
      "cell_type": "code",
      "source": [
        "import zipfile\n",
        "import os"
      ],
      "metadata": {
        "id": "QR0OPt7Pht7l"
      },
      "execution_count": 3,
      "outputs": []
    },
    {
      "cell_type": "markdown",
      "source": [
        "#### Zip"
      ],
      "metadata": {
        "id": "ZzbeO3mPjsY6"
      }
    },
    {
      "cell_type": "code",
      "source": [
        "# This adds files without any folder structure\n",
        "with zipfile.ZipFile('files.zip', 'w', compression=zipfile.ZIP_DEFLATED) as my_zip:\n",
        "  my_zip.write('test.txt')\n",
        "  my_zip.write('thumbnail.png')"
      ],
      "metadata": {
        "id": "QVkgRWp3hvY1"
      },
      "execution_count": 4,
      "outputs": []
    },
    {
      "cell_type": "code",
      "source": [
        "!rm -rf test.txt thumbnail.png"
      ],
      "metadata": {
        "id": "jWO27gELi7LF"
      },
      "execution_count": 5,
      "outputs": []
    },
    {
      "cell_type": "code",
      "source": [
        "!ls"
      ],
      "metadata": {
        "colab": {
          "base_uri": "https://localhost:8080/"
        },
        "id": "95znZmWRi_IS",
        "outputId": "dd288ac1-3363-45c4-c364-c495768f5f00"
      },
      "execution_count": 6,
      "outputs": [
        {
          "output_type": "stream",
          "name": "stdout",
          "text": [
            "files.zip  sample_data\n"
          ]
        }
      ]
    },
    {
      "cell_type": "markdown",
      "source": [
        "#### Unzip"
      ],
      "metadata": {
        "id": "vwVV_Z1cjt_Z"
      }
    },
    {
      "cell_type": "code",
      "source": [
        "# unzip to see\n",
        "with zipfile.ZipFile('files.zip', 'r') as my_zip:\n",
        "  # see files in zip archive\n",
        "  print(my_zip.namelist())\n",
        "  my_zip.extractall()"
      ],
      "metadata": {
        "colab": {
          "base_uri": "https://localhost:8080/"
        },
        "id": "MmUtWtOIh8vp",
        "outputId": "e8c430f2-93ba-40a4-ced4-85f8de5d16f3"
      },
      "execution_count": 7,
      "outputs": [
        {
          "output_type": "stream",
          "name": "stdout",
          "text": [
            "['test.txt', 'thumbnail.png']\n"
          ]
        }
      ]
    },
    {
      "cell_type": "code",
      "source": [
        "!ls"
      ],
      "metadata": {
        "colab": {
          "base_uri": "https://localhost:8080/"
        },
        "id": "knB1yVMpiDU4",
        "outputId": "8a92c729-9cac-4679-c24d-fb79f6cb44b4"
      },
      "execution_count": 8,
      "outputs": [
        {
          "output_type": "stream",
          "name": "stdout",
          "text": [
            "files.zip  sample_data\ttest.txt  thumbnail.png\n"
          ]
        }
      ]
    },
    {
      "cell_type": "markdown",
      "source": [
        "#### Unzip to directory"
      ],
      "metadata": {
        "id": "cma0ZnwhjvHn"
      }
    },
    {
      "cell_type": "code",
      "source": [
        "with zipfile.ZipFile('files.zip', 'r') as my_zip:\n",
        "  print(my_zip.namelist())\n",
        "  # specify directory to unzip the archive\n",
        "  my_zip.extractall('unzipped_folder')"
      ],
      "metadata": {
        "colab": {
          "base_uri": "https://localhost:8080/"
        },
        "id": "-4F4ugQUiMUR",
        "outputId": "d4ec19fa-448f-4f93-8184-43dfde980ec6"
      },
      "execution_count": 9,
      "outputs": [
        {
          "output_type": "stream",
          "name": "stdout",
          "text": [
            "['test.txt', 'thumbnail.png']\n"
          ]
        }
      ]
    },
    {
      "cell_type": "code",
      "source": [
        "!ls"
      ],
      "metadata": {
        "colab": {
          "base_uri": "https://localhost:8080/"
        },
        "id": "I6SeuWAMjyi-",
        "outputId": "8ee1298d-5cfb-4115-afd9-e7108fa7e45e"
      },
      "execution_count": 10,
      "outputs": [
        {
          "output_type": "stream",
          "name": "stdout",
          "text": [
            "files.zip  sample_data\ttest.txt  thumbnail.png  unzipped_folder\n"
          ]
        }
      ]
    },
    {
      "cell_type": "code",
      "source": [
        "!ls unzipped_folder"
      ],
      "metadata": {
        "colab": {
          "base_uri": "https://localhost:8080/"
        },
        "id": "xJsnxtjpjzn3",
        "outputId": "3a466b42-5bde-4f36-8f1b-99477934e34f"
      },
      "execution_count": 11,
      "outputs": [
        {
          "output_type": "stream",
          "name": "stdout",
          "text": [
            "test.txt  thumbnail.png\n"
          ]
        }
      ]
    },
    {
      "cell_type": "markdown",
      "source": [
        "#### Unzip specific file"
      ],
      "metadata": {
        "id": "3MtSTllekE2E"
      }
    },
    {
      "cell_type": "code",
      "source": [
        "with zipfile.ZipFile('files.zip', 'r') as my_zip:\n",
        "    target_files = ['thumbnail.png']\n",
        "    target_dir = 'png_folder'\n",
        "    os.makedirs(target_dir, exist_ok=True)\n",
        "\n",
        "    for file in target_files:\n",
        "      my_zip.extract(member=file, path=target_dir)"
      ],
      "metadata": {
        "id": "plLdOOV4kG9X"
      },
      "execution_count": 12,
      "outputs": []
    },
    {
      "cell_type": "code",
      "source": [
        "!ls png_folder"
      ],
      "metadata": {
        "colab": {
          "base_uri": "https://localhost:8080/"
        },
        "id": "KTjkkAjHkO7Y",
        "outputId": "b5a3d3cb-76ba-48d6-fe49-faef6fcdcf30"
      },
      "execution_count": 13,
      "outputs": [
        {
          "output_type": "stream",
          "name": "stdout",
          "text": [
            "thumbnail.png\n"
          ]
        }
      ]
    },
    {
      "cell_type": "code",
      "source": [],
      "metadata": {
        "id": "d-WlL-_7kkhy"
      },
      "execution_count": 13,
      "outputs": []
    }
  ]
}