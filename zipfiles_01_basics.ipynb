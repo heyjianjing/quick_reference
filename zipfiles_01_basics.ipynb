{
  "nbformat": 4,
  "nbformat_minor": 0,
  "metadata": {
    "colab": {
      "provenance": []
    },
    "kernelspec": {
      "name": "python3",
      "display_name": "Python 3"
    },
    "language_info": {
      "name": "python"
    }
  },
  "cells": [
    {
      "cell_type": "code",
      "execution_count": 25,
      "metadata": {
        "colab": {
          "base_uri": "https://localhost:8080/"
        },
        "id": "hMeIEuvvhg12",
        "outputId": "b5342d08-7785-4f92-9f95-63882bda7a2d"
      },
      "outputs": [
        {
          "output_type": "stream",
          "name": "stdout",
          "text": [
            "Overwriting test.txt\n"
          ]
        }
      ],
      "source": [
        "%%writefile test.txt"
      ]
    },
    {
      "cell_type": "code",
      "source": [
        "%%writefile thumbnail.png"
      ],
      "metadata": {
        "colab": {
          "base_uri": "https://localhost:8080/"
        },
        "id": "nnY8AJylhrjF",
        "outputId": "e372a112-fcb7-4d89-f850-e04667d9adc2"
      },
      "execution_count": 26,
      "outputs": [
        {
          "output_type": "stream",
          "name": "stdout",
          "text": [
            "Overwriting thumbnail.png\n"
          ]
        }
      ]
    },
    {
      "cell_type": "code",
      "source": [
        "import zipfile\n",
        "import os"
      ],
      "metadata": {
        "id": "QR0OPt7Pht7l"
      },
      "execution_count": 37,
      "outputs": []
    },
    {
      "cell_type": "markdown",
      "source": [
        "#### Zip"
      ],
      "metadata": {
        "id": "ZzbeO3mPjsY6"
      }
    },
    {
      "cell_type": "code",
      "source": [
        "# This adds files without any folder structure\n",
        "with zipfile.ZipFile('files.zip', 'w', compression=zipfile.ZIP_DEFLATED) as my_zip:\n",
        "  my_zip.write('test.txt')\n",
        "  my_zip.write('thumbnail.png')"
      ],
      "metadata": {
        "id": "QVkgRWp3hvY1"
      },
      "execution_count": 28,
      "outputs": []
    },
    {
      "cell_type": "code",
      "source": [
        "!rm -rf test.txt thumbnail.png"
      ],
      "metadata": {
        "id": "jWO27gELi7LF"
      },
      "execution_count": 29,
      "outputs": []
    },
    {
      "cell_type": "code",
      "source": [
        "!ls"
      ],
      "metadata": {
        "colab": {
          "base_uri": "https://localhost:8080/"
        },
        "id": "95znZmWRi_IS",
        "outputId": "c1b6ebc8-7b17-422c-f1de-7ecee3183f5f"
      },
      "execution_count": 30,
      "outputs": [
        {
          "output_type": "stream",
          "name": "stdout",
          "text": [
            "files.zip  sample_data\tunzipped_folder\n"
          ]
        }
      ]
    },
    {
      "cell_type": "markdown",
      "source": [
        "#### Unzip"
      ],
      "metadata": {
        "id": "vwVV_Z1cjt_Z"
      }
    },
    {
      "cell_type": "code",
      "source": [
        "# unzip to see\n",
        "with zipfile.ZipFile('files.zip', 'r') as my_zip:\n",
        "  # see files in zip archive\n",
        "  print(my_zip.namelist())\n",
        "  my_zip.extractall()"
      ],
      "metadata": {
        "colab": {
          "base_uri": "https://localhost:8080/"
        },
        "id": "MmUtWtOIh8vp",
        "outputId": "ac142eb8-06a7-42b9-9134-21810559a8ce"
      },
      "execution_count": 31,
      "outputs": [
        {
          "output_type": "stream",
          "name": "stdout",
          "text": [
            "['test.txt', 'thumbnail.png']\n"
          ]
        }
      ]
    },
    {
      "cell_type": "code",
      "source": [
        "!ls"
      ],
      "metadata": {
        "colab": {
          "base_uri": "https://localhost:8080/"
        },
        "id": "knB1yVMpiDU4",
        "outputId": "b4ad5295-48bf-4b90-fa09-f2c977acce33"
      },
      "execution_count": 32,
      "outputs": [
        {
          "output_type": "stream",
          "name": "stdout",
          "text": [
            "files.zip  sample_data\ttest.txt  thumbnail.png  unzipped_folder\n"
          ]
        }
      ]
    },
    {
      "cell_type": "markdown",
      "source": [
        "#### Unzip to directory"
      ],
      "metadata": {
        "id": "cma0ZnwhjvHn"
      }
    },
    {
      "cell_type": "code",
      "source": [
        "with zipfile.ZipFile('files.zip', 'r') as my_zip:\n",
        "  print(my_zip.namelist())\n",
        "  # specify directory to unzip the archive\n",
        "  my_zip.extractall('unzipped_folder')"
      ],
      "metadata": {
        "colab": {
          "base_uri": "https://localhost:8080/"
        },
        "id": "-4F4ugQUiMUR",
        "outputId": "a3260583-4dde-4512-ef8e-b9afde6e4341"
      },
      "execution_count": 33,
      "outputs": [
        {
          "output_type": "stream",
          "name": "stdout",
          "text": [
            "['test.txt', 'thumbnail.png']\n"
          ]
        }
      ]
    },
    {
      "cell_type": "code",
      "source": [
        "!ls"
      ],
      "metadata": {
        "colab": {
          "base_uri": "https://localhost:8080/"
        },
        "id": "I6SeuWAMjyi-",
        "outputId": "8dde2f05-15c9-461e-929f-bc34ce78e38e"
      },
      "execution_count": 34,
      "outputs": [
        {
          "output_type": "stream",
          "name": "stdout",
          "text": [
            "files.zip  sample_data\ttest.txt  thumbnail.png  unzipped_folder\n"
          ]
        }
      ]
    },
    {
      "cell_type": "code",
      "source": [
        "!ls unzipped_folder"
      ],
      "metadata": {
        "colab": {
          "base_uri": "https://localhost:8080/"
        },
        "id": "xJsnxtjpjzn3",
        "outputId": "0661d10c-a271-44ee-cc09-e65dca713f5b"
      },
      "execution_count": 35,
      "outputs": [
        {
          "output_type": "stream",
          "name": "stdout",
          "text": [
            "test.txt  thumbnail.png\n"
          ]
        }
      ]
    },
    {
      "cell_type": "markdown",
      "source": [
        "#### Unzip specific file"
      ],
      "metadata": {
        "id": "3MtSTllekE2E"
      }
    },
    {
      "cell_type": "code",
      "source": [
        "with zipfile.ZipFile('files.zip', 'r') as my_zip:\n",
        "    target_files = ['thumbnail.png']\n",
        "    target_dir = 'png_folder'\n",
        "    os.makedirs(target_dir, exist_ok=True)\n",
        "\n",
        "    for file in target_files:\n",
        "      my_zip.extract(member=file, path=target_dir)"
      ],
      "metadata": {
        "id": "plLdOOV4kG9X"
      },
      "execution_count": 38,
      "outputs": []
    },
    {
      "cell_type": "code",
      "source": [
        "!ls png_folder"
      ],
      "metadata": {
        "colab": {
          "base_uri": "https://localhost:8080/"
        },
        "id": "KTjkkAjHkO7Y",
        "outputId": "551bc827-2c18-424f-c4f9-cda23f51e890"
      },
      "execution_count": 39,
      "outputs": [
        {
          "output_type": "stream",
          "name": "stdout",
          "text": [
            "thumbnail.png\n"
          ]
        }
      ]
    },
    {
      "cell_type": "code",
      "source": [],
      "metadata": {
        "id": "d-WlL-_7kkhy"
      },
      "execution_count": null,
      "outputs": []
    }
  ]
}